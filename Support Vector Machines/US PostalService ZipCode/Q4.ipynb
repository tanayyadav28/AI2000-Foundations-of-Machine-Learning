{
 "cells": [
  {
   "cell_type": "markdown",
   "metadata": {},
   "source": [
    "Author: Tanay Yadav\n",
    "\n",
    "Roll No: AI20BTECH11026\n",
    "\n",
    "Assignment 2"
   ]
  },
  {
   "cell_type": "markdown",
   "metadata": {},
   "source": [
    "# Q4"
   ]
  },
  {
   "cell_type": "code",
   "execution_count": 249,
   "metadata": {},
   "outputs": [],
   "source": [
    "#importing the required libraries\n",
    "\n",
    "import numpy as np\n",
    "import pandas as pd\n",
    "from sklearn import svm\n",
    "from sklearn.metrics import accuracy_score"
   ]
  },
  {
   "cell_type": "code",
   "execution_count": 250,
   "metadata": {},
   "outputs": [],
   "source": [
    "# preparing the training and testing datasets\n",
    "\n",
    "temp_train = pd.read_csv('train_dataset.csv')\n",
    "temp_test = pd.read_csv('test_dataset.csv')"
   ]
  },
  {
   "cell_type": "code",
   "execution_count": 251,
   "metadata": {},
   "outputs": [
    {
     "data": {
      "text/html": [
       "<div>\n",
       "<style scoped>\n",
       "    .dataframe tbody tr th:only-of-type {\n",
       "        vertical-align: middle;\n",
       "    }\n",
       "\n",
       "    .dataframe tbody tr th {\n",
       "        vertical-align: top;\n",
       "    }\n",
       "\n",
       "    .dataframe thead th {\n",
       "        text-align: right;\n",
       "    }\n",
       "</style>\n",
       "<table border=\"1\" class=\"dataframe\">\n",
       "  <thead>\n",
       "    <tr style=\"text-align: right;\">\n",
       "      <th></th>\n",
       "      <th>label</th>\n",
       "      <th>feature 1</th>\n",
       "      <th>feature 2</th>\n",
       "    </tr>\n",
       "  </thead>\n",
       "  <tbody>\n",
       "    <tr>\n",
       "      <th>0</th>\n",
       "      <td>6.0</td>\n",
       "      <td>0.341092</td>\n",
       "      <td>-4.528937</td>\n",
       "    </tr>\n",
       "    <tr>\n",
       "      <th>1</th>\n",
       "      <td>5.0</td>\n",
       "      <td>0.444131</td>\n",
       "      <td>-5.496812</td>\n",
       "    </tr>\n",
       "    <tr>\n",
       "      <th>2</th>\n",
       "      <td>4.0</td>\n",
       "      <td>0.231002</td>\n",
       "      <td>-2.886750</td>\n",
       "    </tr>\n",
       "    <tr>\n",
       "      <th>3</th>\n",
       "      <td>7.0</td>\n",
       "      <td>0.200275</td>\n",
       "      <td>-3.534375</td>\n",
       "    </tr>\n",
       "    <tr>\n",
       "      <th>4</th>\n",
       "      <td>3.0</td>\n",
       "      <td>0.291936</td>\n",
       "      <td>-4.352062</td>\n",
       "    </tr>\n",
       "  </tbody>\n",
       "</table>\n",
       "</div>"
      ],
      "text/plain": [
       "   label  feature 1  feature 2\n",
       "0    6.0   0.341092  -4.528937\n",
       "1    5.0   0.444131  -5.496812\n",
       "2    4.0   0.231002  -2.886750\n",
       "3    7.0   0.200275  -3.534375\n",
       "4    3.0   0.291936  -4.352062"
      ]
     },
     "execution_count": 251,
     "metadata": {},
     "output_type": "execute_result"
    }
   ],
   "source": [
    "temp_train.head()"
   ]
  },
  {
   "cell_type": "code",
   "execution_count": 252,
   "metadata": {},
   "outputs": [
    {
     "data": {
      "text/html": [
       "<div>\n",
       "<style scoped>\n",
       "    .dataframe tbody tr th:only-of-type {\n",
       "        vertical-align: middle;\n",
       "    }\n",
       "\n",
       "    .dataframe tbody tr th {\n",
       "        vertical-align: top;\n",
       "    }\n",
       "\n",
       "    .dataframe thead th {\n",
       "        text-align: right;\n",
       "    }\n",
       "</style>\n",
       "<table border=\"1\" class=\"dataframe\">\n",
       "  <thead>\n",
       "    <tr style=\"text-align: right;\">\n",
       "      <th></th>\n",
       "      <th>label</th>\n",
       "      <th>feature 1</th>\n",
       "      <th>feature 2</th>\n",
       "    </tr>\n",
       "  </thead>\n",
       "  <tbody>\n",
       "    <tr>\n",
       "      <th>0</th>\n",
       "      <td>9.0</td>\n",
       "      <td>0.272178</td>\n",
       "      <td>-4.847937</td>\n",
       "    </tr>\n",
       "    <tr>\n",
       "      <th>1</th>\n",
       "      <td>6.0</td>\n",
       "      <td>0.265133</td>\n",
       "      <td>-5.102000</td>\n",
       "    </tr>\n",
       "    <tr>\n",
       "      <th>2</th>\n",
       "      <td>3.0</td>\n",
       "      <td>0.335926</td>\n",
       "      <td>-2.921562</td>\n",
       "    </tr>\n",
       "    <tr>\n",
       "      <th>3</th>\n",
       "      <td>6.0</td>\n",
       "      <td>0.264850</td>\n",
       "      <td>-4.156625</td>\n",
       "    </tr>\n",
       "    <tr>\n",
       "      <th>4</th>\n",
       "      <td>6.0</td>\n",
       "      <td>0.345338</td>\n",
       "      <td>-6.718438</td>\n",
       "    </tr>\n",
       "  </tbody>\n",
       "</table>\n",
       "</div>"
      ],
      "text/plain": [
       "   label  feature 1  feature 2\n",
       "0    9.0   0.272178  -4.847937\n",
       "1    6.0   0.265133  -5.102000\n",
       "2    3.0   0.335926  -2.921562\n",
       "3    6.0   0.264850  -4.156625\n",
       "4    6.0   0.345338  -6.718438"
      ]
     },
     "execution_count": 252,
     "metadata": {},
     "output_type": "execute_result"
    }
   ],
   "source": [
    "temp_test.head()"
   ]
  },
  {
   "cell_type": "code",
   "execution_count": 253,
   "metadata": {},
   "outputs": [
    {
     "data": {
      "text/html": [
       "<div>\n",
       "<style scoped>\n",
       "    .dataframe tbody tr th:only-of-type {\n",
       "        vertical-align: middle;\n",
       "    }\n",
       "\n",
       "    .dataframe tbody tr th {\n",
       "        vertical-align: top;\n",
       "    }\n",
       "\n",
       "    .dataframe thead th {\n",
       "        text-align: right;\n",
       "    }\n",
       "</style>\n",
       "<table border=\"1\" class=\"dataframe\">\n",
       "  <thead>\n",
       "    <tr style=\"text-align: right;\">\n",
       "      <th></th>\n",
       "      <th>label</th>\n",
       "      <th>feature 1</th>\n",
       "      <th>feature 2</th>\n",
       "    </tr>\n",
       "  </thead>\n",
       "  <tbody>\n",
       "    <tr>\n",
       "      <th>1</th>\n",
       "      <td>5.0</td>\n",
       "      <td>0.444131</td>\n",
       "      <td>-5.496812</td>\n",
       "    </tr>\n",
       "    <tr>\n",
       "      <th>7</th>\n",
       "      <td>1.0</td>\n",
       "      <td>0.123043</td>\n",
       "      <td>-0.707875</td>\n",
       "    </tr>\n",
       "    <tr>\n",
       "      <th>9</th>\n",
       "      <td>1.0</td>\n",
       "      <td>0.113859</td>\n",
       "      <td>-0.931375</td>\n",
       "    </tr>\n",
       "    <tr>\n",
       "      <th>12</th>\n",
       "      <td>1.0</td>\n",
       "      <td>0.115371</td>\n",
       "      <td>-0.386000</td>\n",
       "    </tr>\n",
       "    <tr>\n",
       "      <th>13</th>\n",
       "      <td>1.0</td>\n",
       "      <td>0.102281</td>\n",
       "      <td>-0.378812</td>\n",
       "    </tr>\n",
       "  </tbody>\n",
       "</table>\n",
       "</div>"
      ],
      "text/plain": [
       "    label  feature 1  feature 2\n",
       "1     5.0   0.444131  -5.496812\n",
       "7     1.0   0.123043  -0.707875\n",
       "9     1.0   0.113859  -0.931375\n",
       "12    1.0   0.115371  -0.386000\n",
       "13    1.0   0.102281  -0.378812"
      ]
     },
     "execution_count": 253,
     "metadata": {},
     "output_type": "execute_result"
    }
   ],
   "source": [
    "# selecting the labels 1 and 5 for training and testing\n",
    "\n",
    "train_data = temp_train[temp_train['label'].isin([1,5])]\n",
    "test_data = temp_test[temp_test['label'].isin([1,5])]\n",
    "train_data.head()"
   ]
  },
  {
   "cell_type": "code",
   "execution_count": 254,
   "metadata": {},
   "outputs": [
    {
     "data": {
      "text/plain": [
       "1     5.0\n",
       "7     1.0\n",
       "9     1.0\n",
       "12    1.0\n",
       "13    1.0\n",
       "Name: label, dtype: float64"
      ]
     },
     "execution_count": 254,
     "metadata": {},
     "output_type": "execute_result"
    }
   ],
   "source": [
    "# assigning the labels to the respective arrays\n",
    "\n",
    "train_label = train_data['label']\n",
    "test_label = test_data['label']\n",
    "train_label.head()"
   ]
  },
  {
   "cell_type": "code",
   "execution_count": 255,
   "metadata": {},
   "outputs": [
    {
     "data": {
      "text/html": [
       "<div>\n",
       "<style scoped>\n",
       "    .dataframe tbody tr th:only-of-type {\n",
       "        vertical-align: middle;\n",
       "    }\n",
       "\n",
       "    .dataframe tbody tr th {\n",
       "        vertical-align: top;\n",
       "    }\n",
       "\n",
       "    .dataframe thead th {\n",
       "        text-align: right;\n",
       "    }\n",
       "</style>\n",
       "<table border=\"1\" class=\"dataframe\">\n",
       "  <thead>\n",
       "    <tr style=\"text-align: right;\">\n",
       "      <th></th>\n",
       "      <th>feature 1</th>\n",
       "      <th>feature 2</th>\n",
       "    </tr>\n",
       "  </thead>\n",
       "  <tbody>\n",
       "    <tr>\n",
       "      <th>1</th>\n",
       "      <td>0.444131</td>\n",
       "      <td>-5.496812</td>\n",
       "    </tr>\n",
       "    <tr>\n",
       "      <th>7</th>\n",
       "      <td>0.123043</td>\n",
       "      <td>-0.707875</td>\n",
       "    </tr>\n",
       "    <tr>\n",
       "      <th>9</th>\n",
       "      <td>0.113859</td>\n",
       "      <td>-0.931375</td>\n",
       "    </tr>\n",
       "    <tr>\n",
       "      <th>12</th>\n",
       "      <td>0.115371</td>\n",
       "      <td>-0.386000</td>\n",
       "    </tr>\n",
       "    <tr>\n",
       "      <th>13</th>\n",
       "      <td>0.102281</td>\n",
       "      <td>-0.378812</td>\n",
       "    </tr>\n",
       "  </tbody>\n",
       "</table>\n",
       "</div>"
      ],
      "text/plain": [
       "    feature 1  feature 2\n",
       "1    0.444131  -5.496812\n",
       "7    0.123043  -0.707875\n",
       "9    0.113859  -0.931375\n",
       "12   0.115371  -0.386000\n",
       "13   0.102281  -0.378812"
      ]
     },
     "execution_count": 255,
     "metadata": {},
     "output_type": "execute_result"
    }
   ],
   "source": [
    "# dropping the label columns from the datasets.\n",
    "\n",
    "train_data = train_data.drop(columns = ['label'])\n",
    "test_data = test_data.drop(columns = ['label'])\n",
    "train_data.head()"
   ]
  },
  {
   "cell_type": "markdown",
   "metadata": {},
   "source": [
    "# Q4 (a)"
   ]
  },
  {
   "cell_type": "code",
   "execution_count": 256,
   "metadata": {},
   "outputs": [],
   "source": [
    "# initialising the classifier clf as an SVM with a linear kernel\n",
    "\n",
    "clf = svm.SVC(kernel = 'linear')"
   ]
  },
  {
   "cell_type": "code",
   "execution_count": 257,
   "metadata": {},
   "outputs": [
    {
     "data": {
      "text/plain": [
       "SVC(kernel='linear')"
      ]
     },
     "execution_count": 257,
     "metadata": {},
     "output_type": "execute_result"
    }
   ],
   "source": [
    "# fitting the training dataset\n",
    "\n",
    "clf.fit(train_data,train_label)"
   ]
  },
  {
   "cell_type": "code",
   "execution_count": 258,
   "metadata": {},
   "outputs": [
    {
     "name": "stdout",
     "output_type": "stream",
     "text": [
      "Training error = 0.0038436899423446302\n"
     ]
    }
   ],
   "source": [
    "# getting the predictions for the training dataset and calculating the training error\n",
    "\n",
    "pred_train_label = clf.predict(train_data)\n",
    "train_accu = accuracy_score(train_label, pred_train_label)\n",
    "print('Training error =', 1 - train_accu)"
   ]
  },
  {
   "cell_type": "code",
   "execution_count": 259,
   "metadata": {},
   "outputs": [
    {
     "name": "stdout",
     "output_type": "stream",
     "text": [
      "Testing error = 0.021226415094339646\n"
     ]
    }
   ],
   "source": [
    "# getting the predictions for the testing dataset and calculating the testing error\n",
    "\n",
    "pred_test_label = clf.predict(test_data)\n",
    "test_accu = accuracy_score(test_label, pred_test_label)\n",
    "print('Testing error =',1 - test_accu)"
   ]
  },
  {
   "cell_type": "code",
   "execution_count": 260,
   "metadata": {},
   "outputs": [
    {
     "data": {
      "text/plain": [
       "array([14, 14])"
      ]
     },
     "execution_count": 260,
     "metadata": {},
     "output_type": "execute_result"
    }
   ],
   "source": [
    "# calculating the number of support vectors for the classifier fitter above\n",
    "\n",
    "clf.n_support_"
   ]
  },
  {
   "cell_type": "markdown",
   "metadata": {},
   "source": [
    "*Observations:*\n",
    "\n",
    "From the above results we get that the accuracy over the given test set is $0.9787735849056604$\n",
    "and the number of support vectors for both the classes i.e. $1(+1)$ and $5(-1)$ are $14$ each."
   ]
  },
  {
   "cell_type": "markdown",
   "metadata": {},
   "source": [
    "# Q4(b)"
   ]
  },
  {
   "cell_type": "markdown",
   "metadata": {},
   "source": [
    "(i) Using the first $50$ data points from the training dataset."
   ]
  },
  {
   "cell_type": "code",
   "execution_count": 261,
   "metadata": {},
   "outputs": [],
   "source": [
    "# copying the first 50 training datapoints into a different array\n",
    "\n",
    "train_50 = train_data.iloc[0:50]\n",
    "train_label_50 = train_label.iloc[0:50]"
   ]
  },
  {
   "cell_type": "code",
   "execution_count": 262,
   "metadata": {},
   "outputs": [],
   "source": [
    "clf_50 = svm.SVC(kernel = 'linear', gamma = 0.1) "
   ]
  },
  {
   "cell_type": "code",
   "execution_count": 263,
   "metadata": {},
   "outputs": [
    {
     "data": {
      "text/plain": [
       "SVC(gamma=0.1, kernel='linear')"
      ]
     },
     "execution_count": 263,
     "metadata": {},
     "output_type": "execute_result"
    }
   ],
   "source": [
    "clf_50.fit(train_50,train_label_50)"
   ]
  },
  {
   "cell_type": "code",
   "execution_count": 264,
   "metadata": {},
   "outputs": [
    {
     "name": "stdout",
     "output_type": "stream",
     "text": [
      "Testing error = 0.018867924528301883\n"
     ]
    }
   ],
   "source": [
    "pred_test_label_50 = clf_50.predict(test_data)\n",
    "test_accu_50 = accuracy_score(test_label, pred_test_label_50)\n",
    "print('Testing error =',1 - test_accu_50)"
   ]
  },
  {
   "cell_type": "code",
   "execution_count": 265,
   "metadata": {},
   "outputs": [
    {
     "data": {
      "text/plain": [
       "array([1, 1])"
      ]
     },
     "execution_count": 265,
     "metadata": {},
     "output_type": "execute_result"
    }
   ],
   "source": [
    "clf_50.n_support_"
   ]
  },
  {
   "cell_type": "markdown",
   "metadata": {},
   "source": [
    "Testing accuracy while training for first $50$ training datapoints is $0.9811320754716981$ with $1$ support vector each for both the classes."
   ]
  },
  {
   "cell_type": "markdown",
   "metadata": {},
   "source": [
    "----------------------------------------------------------------\n",
    "(ii) Using the first $100$ data points from the training dataset."
   ]
  },
  {
   "cell_type": "code",
   "execution_count": 266,
   "metadata": {},
   "outputs": [],
   "source": [
    "# copying the first 100 training datapoints into a different array\n",
    "\n",
    "train_100 = train_data.iloc[0:100]\n",
    "train_label_100 = train_label.iloc[0:100]"
   ]
  },
  {
   "cell_type": "code",
   "execution_count": 267,
   "metadata": {},
   "outputs": [],
   "source": [
    "clf_100 = svm.SVC(kernel = 'linear', gamma = 0.1) "
   ]
  },
  {
   "cell_type": "code",
   "execution_count": 268,
   "metadata": {},
   "outputs": [
    {
     "data": {
      "text/plain": [
       "SVC(gamma=0.1, kernel='linear')"
      ]
     },
     "execution_count": 268,
     "metadata": {},
     "output_type": "execute_result"
    }
   ],
   "source": [
    "clf_100.fit(train_100,train_label_100)"
   ]
  },
  {
   "cell_type": "code",
   "execution_count": 269,
   "metadata": {},
   "outputs": [
    {
     "name": "stdout",
     "output_type": "stream",
     "text": [
      "Testing error = 0.018867924528301883\n"
     ]
    }
   ],
   "source": [
    "pred_test_label_100 = clf_100.predict(test_data)\n",
    "test_accu_100 = accuracy_score(test_label, pred_test_label_100)\n",
    "print('Testing error =', 1 - test_accu_100)"
   ]
  },
  {
   "cell_type": "code",
   "execution_count": 270,
   "metadata": {},
   "outputs": [
    {
     "data": {
      "text/plain": [
       "array([2, 2])"
      ]
     },
     "execution_count": 270,
     "metadata": {},
     "output_type": "execute_result"
    }
   ],
   "source": [
    "clf_100.n_support_"
   ]
  },
  {
   "cell_type": "markdown",
   "metadata": {},
   "source": [
    "Testing accuracy while training for first $100$ training datapoints is $0.9811320754716981$ with $2$ support vectors each for both the classes."
   ]
  },
  {
   "cell_type": "markdown",
   "metadata": {},
   "source": [
    "----------------------------------------------------------------\n",
    "(iii) Using the first $200$ data points from the training dataset."
   ]
  },
  {
   "cell_type": "code",
   "execution_count": 271,
   "metadata": {},
   "outputs": [],
   "source": [
    "# copying the first 200 training datapoints into a different array\n",
    "\n",
    "train_200 = train_data.iloc[0:200]\n",
    "train_label_200 = train_label.iloc[0:200]"
   ]
  },
  {
   "cell_type": "code",
   "execution_count": 272,
   "metadata": {},
   "outputs": [],
   "source": [
    "clf_200 = svm.SVC(kernel = 'linear', gamma = 0.1) "
   ]
  },
  {
   "cell_type": "code",
   "execution_count": 273,
   "metadata": {},
   "outputs": [
    {
     "data": {
      "text/plain": [
       "SVC(gamma=0.1, kernel='linear')"
      ]
     },
     "execution_count": 273,
     "metadata": {},
     "output_type": "execute_result"
    }
   ],
   "source": [
    "clf_200.fit(train_200,train_label_200)"
   ]
  },
  {
   "cell_type": "code",
   "execution_count": 274,
   "metadata": {},
   "outputs": [
    {
     "name": "stdout",
     "output_type": "stream",
     "text": [
      "Testing error = 0.018867924528301883\n"
     ]
    }
   ],
   "source": [
    "pred_test_label_200 = clf_200.predict(test_data)\n",
    "test_accu_200 = accuracy_score(test_label, pred_test_label_200)\n",
    "print('Testing error =', 1 - test_accu_200)"
   ]
  },
  {
   "cell_type": "code",
   "execution_count": 275,
   "metadata": {},
   "outputs": [
    {
     "data": {
      "text/plain": [
       "array([4, 4])"
      ]
     },
     "execution_count": 275,
     "metadata": {},
     "output_type": "execute_result"
    }
   ],
   "source": [
    "clf_200.n_support_"
   ]
  },
  {
   "cell_type": "markdown",
   "metadata": {},
   "source": [
    "Testing accuracy while training for first $200$ training datapoints is $0.9811320754716981$ with $4$ support vectors each for both the classes."
   ]
  },
  {
   "cell_type": "markdown",
   "metadata": {},
   "source": [
    "----------------------------------------------------------------\n",
    "(iv) Using the first $800$ data points from the training dataset."
   ]
  },
  {
   "cell_type": "code",
   "execution_count": 276,
   "metadata": {},
   "outputs": [],
   "source": [
    "# copying the first 800 training datapoints into a different array\n",
    "\n",
    "train_800 = train_data.iloc[0:800]\n",
    "train_label_800 = train_label.iloc[0:800]"
   ]
  },
  {
   "cell_type": "code",
   "execution_count": 277,
   "metadata": {},
   "outputs": [],
   "source": [
    "clf_800 = svm.SVC(kernel = 'linear', gamma = 0.1) "
   ]
  },
  {
   "cell_type": "code",
   "execution_count": 278,
   "metadata": {},
   "outputs": [
    {
     "data": {
      "text/plain": [
       "SVC(gamma=0.1, kernel='linear')"
      ]
     },
     "execution_count": 278,
     "metadata": {},
     "output_type": "execute_result"
    }
   ],
   "source": [
    "clf_800.fit(train_800,train_label_800)"
   ]
  },
  {
   "cell_type": "code",
   "execution_count": 279,
   "metadata": {},
   "outputs": [
    {
     "name": "stdout",
     "output_type": "stream",
     "text": [
      "Testing error = 0.018867924528301883\n"
     ]
    }
   ],
   "source": [
    "pred_test_label_800 = clf_800.predict(test_data)\n",
    "test_accu_800 = accuracy_score(test_label, pred_test_label_800)\n",
    "print('Testing error =',1 - test_accu_800)"
   ]
  },
  {
   "cell_type": "code",
   "execution_count": 280,
   "metadata": {},
   "outputs": [
    {
     "data": {
      "text/plain": [
       "array([7, 7])"
      ]
     },
     "execution_count": 280,
     "metadata": {},
     "output_type": "execute_result"
    }
   ],
   "source": [
    "clf_800.n_support_"
   ]
  },
  {
   "cell_type": "markdown",
   "metadata": {},
   "source": [
    "Testing accuracy while training for first $800$ training datapoints is $0.9811320754716981$ with $7$ support vectors each for both the classes."
   ]
  },
  {
   "cell_type": "markdown",
   "metadata": {},
   "source": [
    "*Observations:*  \n",
    "#### For $50$ training datapoints:  \n",
    "Testing error = 0.018867924528301883  \n",
    "Number of support vectors for both the classes = 1.  \n",
    "\n",
    "#### For $100$ training datapoints:  \n",
    "Testing error = 0.018867924528301883  \n",
    "Number of support vectors for both the classes = 2.  \n",
    "\n",
    "#### For $200$ training datapoints:  \n",
    "Testing error = 0.018867924528301883  \n",
    "Number of support vectors for both the classes = 4.  \n",
    "\n",
    "#### For $800$ training datapoints:  \n",
    "Testing error = 0.018867924528301883  \n",
    "Number of support vectors for both the classes = 7.  \n",
    "\n"
   ]
  },
  {
   "cell_type": "markdown",
   "metadata": {},
   "source": [
    "# Q4(c)"
   ]
  },
  {
   "cell_type": "markdown",
   "metadata": {},
   "source": [
    "## (i)"
   ]
  },
  {
   "cell_type": "code",
   "execution_count": 281,
   "metadata": {},
   "outputs": [
    {
     "name": "stdout",
     "output_type": "stream",
     "text": [
      "\n",
      " For Q = 2 and C = 0.0001\n",
      "\n",
      "\n",
      "* Training error = 0.004484304932735439\n",
      "\n",
      "* Testing error = 0.018867924528301883\n",
      "\n",
      "* No. of Support vectors = [17 17]\n"
     ]
    }
   ],
   "source": [
    "# creating a classifier SVM with a polynomial kernel having attributes: Q = 2, C = 0.0001\n",
    "\n",
    "clf_polynomial = svm.SVC(kernel = 'poly', degree = 2, coef0 = 0.0001, gamma = 0.1)\n",
    "clf_polynomial.fit(train_data, train_label)\n",
    "\n",
    "print('\\n For Q = 2 and C = 0.0001\\n')\n",
    "poly_train = clf_polynomial.predict(train_data)\n",
    "poly_accu = accuracy_score(train_label, poly_train)\n",
    "print('\\n* Training error =',1 - poly_accu)\n",
    "\n",
    "\n",
    "poly_test = clf_polynomial.predict(test_data)\n",
    "poly_accu_test = accuracy_score(test_label, poly_test)\n",
    "print('\\n* Testing error =',1 - poly_accu_test)\n",
    "\n",
    "print('\\n* No. of Support vectors =', clf_polynomial.n_support_)"
   ]
  },
  {
   "cell_type": "code",
   "execution_count": 282,
   "metadata": {},
   "outputs": [
    {
     "name": "stdout",
     "output_type": "stream",
     "text": [
      "\n",
      " For Q = 5 and C = 0.0001\n",
      "\n",
      "\n",
      "* Training error = 0.005124919923126248\n",
      "\n",
      "* Testing error = 0.01650943396226412\n",
      "\n",
      "* No. of Support vectors = [16 16]\n"
     ]
    }
   ],
   "source": [
    "# creating a classifier SVM with a polynomial kernel having attributes: Q = 5, C = 0.0001\n",
    "\n",
    "clf_polynomial = svm.SVC(kernel = 'poly', degree = 5, coef0 = 0.0001, gamma = 0.1)\n",
    "clf_polynomial.fit(train_data, train_label)\n",
    "\n",
    "print('\\n For Q = 5 and C = 0.0001\\n')\n",
    "poly_train = clf_polynomial.predict(train_data)\n",
    "poly_accu = accuracy_score(train_label, poly_train)\n",
    "print('\\n* Training error =',1 - poly_accu)\n",
    "\n",
    "\n",
    "poly_test = clf_polynomial.predict(test_data)\n",
    "poly_accu_test = accuracy_score(test_label, poly_test)\n",
    "print('\\n* Testing error =',1 - poly_accu_test)\n",
    "\n",
    "print('\\n* No. of Support vectors =', clf_polynomial.n_support_)"
   ]
  },
  {
   "cell_type": "markdown",
   "metadata": {},
   "source": [
    "## (ii)"
   ]
  },
  {
   "cell_type": "code",
   "execution_count": 283,
   "metadata": {},
   "outputs": [
    {
     "name": "stdout",
     "output_type": "stream",
     "text": [
      "\n",
      " For Q = 2 and C = 0.001\n",
      "\n",
      "\n",
      "* Training error = 0.004484304932735439\n",
      "\n",
      "* Testing error = 0.018867924528301883\n",
      "\n",
      "* No. of Support vectors = [17 17]\n"
     ]
    }
   ],
   "source": [
    "# creating a classifier SVM with a polynomial kernel having attributes: Q = 2, C = 0.001\n",
    "\n",
    "clf_polynomial = svm.SVC(kernel = 'poly', degree = 2, coef0 = 0.001, gamma = 0.1)\n",
    "clf_polynomial.fit(train_data, train_label)\n",
    "\n",
    "print('\\n For Q = 2 and C = 0.001\\n')\n",
    "poly_train = clf_polynomial.predict(train_data)\n",
    "poly_accu = accuracy_score(train_label, poly_train)\n",
    "print('\\n* Training error =',1 - poly_accu)\n",
    "\n",
    "\n",
    "poly_test = clf_polynomial.predict(test_data)\n",
    "poly_accu_test = accuracy_score(test_label, poly_test)\n",
    "print('\\n* Testing error =',1 - poly_accu_test)\n",
    "\n",
    "print('\\n* No. of Support vectors =', clf_polynomial.n_support_)"
   ]
  },
  {
   "cell_type": "code",
   "execution_count": 284,
   "metadata": {},
   "outputs": [
    {
     "name": "stdout",
     "output_type": "stream",
     "text": [
      "\n",
      " For Q = 5 and C = 0.001\n",
      "\n",
      "\n",
      "* Training error = 0.005124919923126248\n",
      "\n",
      "* Testing error = 0.01650943396226412\n",
      "\n",
      "* No. of Support vectors = [16 16]\n"
     ]
    }
   ],
   "source": [
    "# creating a classifier SVM with a polynomial kernel having attributes: Q = 5, C = 0.001\n",
    "\n",
    "clf_polynomial = svm.SVC(kernel = 'poly', degree = 5, coef0 = 0.001, gamma = 0.1)\n",
    "clf_polynomial.fit(train_data, train_label)\n",
    "\n",
    "print('\\n For Q = 5 and C = 0.001\\n')\n",
    "poly_train = clf_polynomial.predict(train_data)\n",
    "poly_accu = accuracy_score(train_label, poly_train)\n",
    "print('\\n* Training error =',1 - poly_accu)\n",
    "\n",
    "\n",
    "poly_test = clf_polynomial.predict(test_data)\n",
    "poly_accu_test = accuracy_score(test_label, poly_test)\n",
    "print('\\n* Testing error =',1 - poly_accu_test)\n",
    "\n",
    "print('\\n* No. of Support vectors =', clf_polynomial.n_support_)"
   ]
  },
  {
   "cell_type": "markdown",
   "metadata": {},
   "source": [
    "## (iii)"
   ]
  },
  {
   "cell_type": "code",
   "execution_count": 285,
   "metadata": {},
   "outputs": [
    {
     "name": "stdout",
     "output_type": "stream",
     "text": [
      "\n",
      " For Q = 2 and C = 0.01\n",
      "\n",
      "\n",
      "* Training error = 0.004484304932735439\n",
      "\n",
      "* Testing error = 0.018867924528301883\n",
      "\n",
      "* No. of Support vectors = [17 17]\n"
     ]
    }
   ],
   "source": [
    "# creating a classifier SVM with a polynomial kernel having attributes: Q = 2, C = 0.01\n",
    "\n",
    "clf_polynomial = svm.SVC(kernel = 'poly', degree = 2, coef0 = 0.01, gamma = 0.1)\n",
    "clf_polynomial.fit(train_data, train_label)\n",
    "\n",
    "print('\\n For Q = 2 and C = 0.01\\n')\n",
    "poly_train = clf_polynomial.predict(train_data)\n",
    "poly_accu = accuracy_score(train_label, poly_train)\n",
    "print('\\n* Training error =',1 - poly_accu)\n",
    "\n",
    "\n",
    "poly_test = clf_polynomial.predict(test_data)\n",
    "poly_accu_test = accuracy_score(test_label, poly_test)\n",
    "print('\\n* Testing error =',1 - poly_accu_test)\n",
    "\n",
    "print('\\n* No. of Support vectors =', clf_polynomial.n_support_)"
   ]
  },
  {
   "cell_type": "code",
   "execution_count": 286,
   "metadata": {},
   "outputs": [
    {
     "name": "stdout",
     "output_type": "stream",
     "text": [
      "\n",
      " For Q = 5 and C = 0.01\n",
      "\n",
      "\n",
      "* Training error = 0.005124919923126248\n",
      "\n",
      "* Testing error = 0.01650943396226412\n",
      "\n",
      "* No. of Support vectors = [16 16]\n"
     ]
    }
   ],
   "source": [
    "# creating a classifier SVM with a polynomial kernel having attributes: Q = 5, C = 0.01\n",
    "\n",
    "clf_polynomial = svm.SVC(kernel = 'poly', degree = 5, coef0 = 0.01, gamma = 0.1)\n",
    "clf_polynomial.fit(train_data, train_label)\n",
    "\n",
    "print('\\n For Q = 5 and C = 0.01\\n')\n",
    "poly_train = clf_polynomial.predict(train_data)\n",
    "poly_accu = accuracy_score(train_label, poly_train)\n",
    "print('\\n* Training error =',1 - poly_accu)\n",
    "\n",
    "\n",
    "poly_test = clf_polynomial.predict(test_data)\n",
    "poly_accu_test = accuracy_score(test_label, poly_test)\n",
    "print('\\n* Testing error =',1 - poly_accu_test)\n",
    "\n",
    "print('\\n* No. of Support vectors =', clf_polynomial.n_support_)"
   ]
  },
  {
   "cell_type": "markdown",
   "metadata": {},
   "source": [
    "## (iv)"
   ]
  },
  {
   "cell_type": "code",
   "execution_count": 287,
   "metadata": {},
   "outputs": [
    {
     "name": "stdout",
     "output_type": "stream",
     "text": [
      "\n",
      " For Q = 2 and C = 1\n",
      "\n",
      "\n",
      "* Training error = 0.004484304932735439\n",
      "\n",
      "* Testing error = 0.021226415094339646\n",
      "\n",
      "* No. of Support vectors = [15 15]\n"
     ]
    }
   ],
   "source": [
    "# creating a classifier SVM with a polynomial kernel having attributes: Q = 2, C = 1\n",
    "\n",
    "clf_polynomial = svm.SVC(kernel = 'poly', degree = 2, coef0 = 1, gamma = 0.1)\n",
    "clf_polynomial.fit(train_data, train_label)\n",
    "\n",
    "print('\\n For Q = 2 and C = 1\\n')\n",
    "poly_train = clf_polynomial.predict(train_data)\n",
    "poly_accu = accuracy_score(train_label, poly_train)\n",
    "print('\\n* Training error =',1 - poly_accu)\n",
    "\n",
    "\n",
    "poly_test = clf_polynomial.predict(test_data)\n",
    "poly_accu_test = accuracy_score(test_label, poly_test)\n",
    "print('\\n* Testing error =',1 - poly_accu_test)\n",
    "\n",
    "print('\\n* No. of Support vectors =', clf_polynomial.n_support_)"
   ]
  },
  {
   "cell_type": "code",
   "execution_count": 288,
   "metadata": {},
   "outputs": [
    {
     "name": "stdout",
     "output_type": "stream",
     "text": [
      "\n",
      " For Q = 5 and C = 1\n",
      "\n",
      "\n",
      "* Training error = 0.004484304932735439\n",
      "\n",
      "* Testing error = 0.02358490566037741\n",
      "\n",
      "* No. of Support vectors = [12 14]\n"
     ]
    }
   ],
   "source": [
    "# creating a classifier SVM with a polynomial kernel having attributes: Q = 5, C = 1\n",
    "\n",
    "clf_polynomial = svm.SVC(kernel = 'poly', degree = 5, coef0 = 1, gamma = 0.1)\n",
    "clf_polynomial.fit(train_data, train_label)\n",
    "\n",
    "print('\\n For Q = 5 and C = 1\\n')\n",
    "poly_train = clf_polynomial.predict(train_data)\n",
    "poly_accu = accuracy_score(train_label, poly_train)\n",
    "print('\\n* Training error =',1 - poly_accu)\n",
    "\n",
    "\n",
    "poly_test = clf_polynomial.predict(test_data)\n",
    "poly_accu_test = accuracy_score(test_label, poly_test)\n",
    "print('\\n* Testing error =',1 - poly_accu_test)\n",
    "\n",
    "print('\\n* No. of Support vectors =', clf_polynomial.n_support_)"
   ]
  },
  {
   "cell_type": "markdown",
   "metadata": {},
   "source": [
    "i. When $C = 0.0001$, training error is higher at $Q = 5$. -> True  \n",
    "ii. When $C = 0.001$, the number of support vectors is lower at $Q = 5$. -> True   \n",
    "iii. When $C = 0.01$, training error is higher at $Q = 5$. -> False   \n",
    "iv. When $C = 1$, test error is lower at $Q = 5$. -> False"
   ]
  },
  {
   "cell_type": "markdown",
   "metadata": {},
   "source": [
    "# Q4(d)"
   ]
  },
  {
   "cell_type": "code",
   "execution_count": 289,
   "metadata": {},
   "outputs": [
    {
     "name": "stdout",
     "output_type": "stream",
     "text": [
      "For C = 0.01 : \n",
      "Training error = 0.004484304932735439\n",
      "Testing error = 0.021226415094339646 \n",
      "\n",
      "For C = 1.0 : \n",
      "Training error = 0.004484304932735439\n",
      "Testing error = 0.021226415094339646 \n",
      "\n",
      "For C = 100.0 : \n",
      "Training error = 0.0038436899423446302\n",
      "Testing error = 0.018867924528301883 \n",
      "\n",
      "For C = 100000.0 : \n",
      "Training error = 0.0\n",
      "Testing error = 0.36556603773584906 \n",
      "\n",
      "For C = 10000000.0 : \n",
      "Training error = 0.0\n",
      "Testing error = 0.37735849056603776 \n",
      "\n"
     ]
    }
   ],
   "source": [
    "# creating an array with all the values of gamma for the rbf kernel\n",
    "\n",
    "gamma_val = np.array([0.01, 1, 100, 10e4,10e6])\n",
    "\n",
    "#looping the initialisation of the classifier according to the gamma values in the array\n",
    "for i in range(0,5):\n",
    "    clf_rbf = svm.SVC(kernel = 'rbf', gamma = gamma_val[i])\n",
    "    clf_rbf.fit(train_data, train_label)\n",
    "    \n",
    "    print('For C =', gamma_val[i],': ')\n",
    "    rbf_train = clf_rbf.predict(train_data)\n",
    "    rbf_accu = accuracy_score(train_label, rbf_train)\n",
    "    print('Training error =', 1 - (rbf_accu))\n",
    "    \n",
    "    rbf_test = clf_rbf.predict(test_data)\n",
    "    rbf_accu_test = accuracy_score(test_label, rbf_test)\n",
    "    print('Testing error =', 1 - (rbf_accu_test), '\\n')"
   ]
  },
  {
   "cell_type": "markdown",
   "metadata": {},
   "source": [
    "*Observations:*  \n",
    "The lowest training error is for $C = 10^6$.  \n",
    "The lowest testing error is for $C = 100$."
   ]
  }
 ],
 "metadata": {
  "kernelspec": {
   "display_name": "Python 3",
   "language": "python",
   "name": "python3"
  },
  "language_info": {
   "codemirror_mode": {
    "name": "ipython",
    "version": 3
   },
   "file_extension": ".py",
   "mimetype": "text/x-python",
   "name": "python",
   "nbconvert_exporter": "python",
   "pygments_lexer": "ipython3",
   "version": "3.8.5"
  }
 },
 "nbformat": 4,
 "nbformat_minor": 4
}
