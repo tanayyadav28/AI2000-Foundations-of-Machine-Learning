{
 "cells": [
  {
   "cell_type": "markdown",
   "metadata": {},
   "source": [
    "# Author: Tanay Yadav \n",
    "# Roll No: AI20BTECH11026\n",
    "# Assignment 3 Q5"
   ]
  },
  {
   "cell_type": "code",
   "execution_count": 57,
   "metadata": {},
   "outputs": [],
   "source": [
    "# importing required libraries\n",
    "\n",
    "import pandas as pd\n",
    "from sklearn.ensemble import GradientBoostingClassifier\n",
    "from sklearn.metrics import accuracy_score\n",
    "from sklearn.metrics import recall_score\n",
    "from sklearn.metrics import precision_score\n",
    "from sklearn.tree import DecisionTreeClassifier "
   ]
  },
  {
   "cell_type": "code",
   "execution_count": 31,
   "metadata": {},
   "outputs": [],
   "source": [
    "# assigning respective datasets\n",
    "\n",
    "train_set = pd.read_csv('loan_train.csv')\n",
    "test_set = pd.read_csv('loan_test.csv')"
   ]
  },
  {
   "cell_type": "markdown",
   "metadata": {},
   "source": [
    "## Processing the Training Dataset"
   ]
  },
  {
   "cell_type": "code",
   "execution_count": 32,
   "metadata": {},
   "outputs": [
    {
     "name": "stdout",
     "output_type": "stream",
     "text": [
      "<class 'pandas.core.frame.DataFrame'>\n",
      "RangeIndex: 24999 entries, 0 to 24998\n",
      "Data columns (total 111 columns):\n",
      " #   Column                          Non-Null Count  Dtype  \n",
      "---  ------                          --------------  -----  \n",
      " 0   id                              24999 non-null  int64  \n",
      " 1   member_id                       24999 non-null  int64  \n",
      " 2   loan_amnt                       24999 non-null  int64  \n",
      " 3   funded_amnt                     24999 non-null  int64  \n",
      " 4   funded_amnt_inv                 24999 non-null  float64\n",
      " 5   term                            24999 non-null  object \n",
      " 6   int_rate                        24999 non-null  object \n",
      " 7   installment                     24999 non-null  float64\n",
      " 8   grade                           24999 non-null  object \n",
      " 9   sub_grade                       24999 non-null  object \n",
      " 10  emp_title                       24993 non-null  object \n",
      " 11  emp_length                      24958 non-null  object \n",
      " 12  home_ownership                  24999 non-null  object \n",
      " 13  annual_inc                      24999 non-null  float64\n",
      " 14  verification_status             24999 non-null  object \n",
      " 15  issue_d                         24999 non-null  object \n",
      " 16  loan_status                     24999 non-null  object \n",
      " 17  pymnt_plan                      24999 non-null  object \n",
      " 18  url                             24999 non-null  object \n",
      " 19  desc                            16807 non-null  object \n",
      " 20  purpose                         24999 non-null  object \n",
      " 21  title                           24991 non-null  object \n",
      " 22  zip_code                        24999 non-null  object \n",
      " 23  addr_state                      24999 non-null  object \n",
      " 24  dti                             24999 non-null  float64\n",
      " 25  delinq_2yrs                     24999 non-null  int64  \n",
      " 26  earliest_cr_line                24999 non-null  object \n",
      " 27  inq_last_6mths                  24999 non-null  int64  \n",
      " 28  mths_since_last_delinq          8759 non-null   float64\n",
      " 29  mths_since_last_record          1679 non-null   float64\n",
      " 30  open_acc                        24999 non-null  int64  \n",
      " 31  pub_rec                         24999 non-null  int64  \n",
      " 32  revol_bal                       24999 non-null  int64  \n",
      " 33  revol_util                      24970 non-null  object \n",
      " 34  total_acc                       24999 non-null  int64  \n",
      " 35  initial_list_status             24999 non-null  object \n",
      " 36  out_prncp                       24999 non-null  float64\n",
      " 37  out_prncp_inv                   24999 non-null  float64\n",
      " 38  total_pymnt                     24999 non-null  float64\n",
      " 39  total_pymnt_inv                 24999 non-null  float64\n",
      " 40  total_rec_prncp                 24999 non-null  float64\n",
      " 41  total_rec_int                   24999 non-null  float64\n",
      " 42  total_rec_late_fee              24999 non-null  float64\n",
      " 43  recoveries                      24999 non-null  float64\n",
      " 44  collection_recovery_fee         24999 non-null  float64\n",
      " 45  last_pymnt_d                    24954 non-null  object \n",
      " 46  last_pymnt_amnt                 24999 non-null  float64\n",
      " 47  next_pymnt_d                    698 non-null    object \n",
      " 48  last_credit_pull_d              24999 non-null  object \n",
      " 49  collections_12_mths_ex_med      24970 non-null  float64\n",
      " 50  mths_since_last_major_derog     0 non-null      float64\n",
      " 51  policy_code                     24999 non-null  int64  \n",
      " 52  application_type                24999 non-null  object \n",
      " 53  annual_inc_joint                0 non-null      float64\n",
      " 54  dti_joint                       0 non-null      float64\n",
      " 55  verification_status_joint       0 non-null      float64\n",
      " 56  acc_now_delinq                  24999 non-null  int64  \n",
      " 57  tot_coll_amt                    0 non-null      float64\n",
      " 58  tot_cur_bal                     0 non-null      float64\n",
      " 59  open_acc_6m                     0 non-null      float64\n",
      " 60  open_il_6m                      0 non-null      float64\n",
      " 61  open_il_12m                     0 non-null      float64\n",
      " 62  open_il_24m                     0 non-null      float64\n",
      " 63  mths_since_rcnt_il              0 non-null      float64\n",
      " 64  total_bal_il                    0 non-null      float64\n",
      " 65  il_util                         0 non-null      float64\n",
      " 66  open_rv_12m                     0 non-null      float64\n",
      " 67  open_rv_24m                     0 non-null      float64\n",
      " 68  max_bal_bc                      0 non-null      float64\n",
      " 69  all_util                        0 non-null      float64\n",
      " 70  total_rev_hi_lim                0 non-null      float64\n",
      " 71  inq_fi                          0 non-null      float64\n",
      " 72  total_cu_tl                     0 non-null      float64\n",
      " 73  inq_last_12m                    0 non-null      float64\n",
      " 74  acc_open_past_24mths            0 non-null      float64\n",
      " 75  avg_cur_bal                     0 non-null      float64\n",
      " 76  bc_open_to_buy                  0 non-null      float64\n",
      " 77  bc_util                         0 non-null      float64\n",
      " 78  chargeoff_within_12_mths        24970 non-null  float64\n",
      " 79  delinq_amnt                     24999 non-null  int64  \n",
      " 80  mo_sin_old_il_acct              0 non-null      float64\n",
      " 81  mo_sin_old_rev_tl_op            0 non-null      float64\n",
      " 82  mo_sin_rcnt_rev_tl_op           0 non-null      float64\n",
      " 83  mo_sin_rcnt_tl                  0 non-null      float64\n",
      " 84  mort_acc                        0 non-null      float64\n",
      " 85  mths_since_recent_bc            0 non-null      float64\n",
      " 86  mths_since_recent_bc_dlq        0 non-null      float64\n",
      " 87  mths_since_recent_inq           0 non-null      float64\n",
      " 88  mths_since_recent_revol_delinq  0 non-null      float64\n",
      " 89  num_accts_ever_120_pd           0 non-null      float64\n",
      " 90  num_actv_bc_tl                  0 non-null      float64\n",
      " 91  num_actv_rev_tl                 0 non-null      float64\n",
      " 92  num_bc_sats                     0 non-null      float64\n",
      " 93  num_bc_tl                       0 non-null      float64\n",
      " 94  num_il_tl                       0 non-null      float64\n",
      " 95  num_op_rev_tl                   0 non-null      float64\n",
      " 96  num_rev_accts                   0 non-null      float64\n",
      " 97  num_rev_tl_bal_gt_0             0 non-null      float64\n",
      " 98  num_sats                        0 non-null      float64\n",
      " 99  num_tl_120dpd_2m                0 non-null      float64\n",
      " 100 num_tl_30dpd                    0 non-null      float64\n",
      " 101 num_tl_90g_dpd_24m              0 non-null      float64\n",
      " 102 num_tl_op_past_12m              0 non-null      float64\n",
      " 103 pct_tl_nvr_dlq                  0 non-null      float64\n",
      " 104 percent_bc_gt_75                0 non-null      float64\n",
      " 105 pub_rec_bankruptcies            24582 non-null  float64\n",
      " 106 tax_liens                       24982 non-null  float64\n",
      " 107 tot_hi_cred_lim                 0 non-null      float64\n",
      " 108 total_bal_ex_mort               0 non-null      float64\n",
      " 109 total_bc_limit                  0 non-null      float64\n",
      " 110 total_il_high_credit_limit      0 non-null      float64\n",
      "dtypes: float64(74), int64(13), object(24)\n",
      "memory usage: 21.2+ MB\n"
     ]
    }
   ],
   "source": [
    "train_set.info(verbose=True, null_counts=True)"
   ]
  },
  {
   "cell_type": "code",
   "execution_count": 33,
   "metadata": {},
   "outputs": [],
   "source": [
    "# moving the target variable to the last column of the dataframe\n",
    "train_set = train_set[[c for c in train_set if c not in ['loan_status']] + ['loan_status']]\n",
    "\n",
    "# dropping the columns having all the values as NAN\n",
    "train_set = train_set.dropna(axis=1, how='all')"
   ]
  },
  {
   "cell_type": "code",
   "execution_count": 34,
   "metadata": {},
   "outputs": [],
   "source": [
    "# dropping the columns having all values as the same\n",
    "nunique = train_set.nunique()\n",
    "cols_to_drop = nunique[nunique == 1].index\n",
    "train_set = train_set.drop(cols_to_drop, axis=1)\n",
    "\n",
    "# dropping the useless columns\n",
    "train_set = train_set.drop(columns=['next_pymnt_d','id','member_id','total_rec_late_fee', 'collection_recovery_fee','earliest_cr_line','last_pymnt_d','sub_grade'])\n",
    "train_set = train_set.drop(columns=['last_pymnt_amnt','url','emp_title','out_prncp','out_prncp_inv','funded_amnt','zip_code','addr_state','pub_rec_bankruptcies'])\n",
    "train_set = train_set.drop(columns=['funded_amnt_inv','mths_since_last_delinq','mths_since_last_record','desc','last_credit_pull_d','verification_status','term'])\n",
    "train_set = train_set.drop(columns=['purpose','issue_d','title','delinq_2yrs','total_pymnt_inv','open_acc', 'pub_rec', 'revol_bal','revol_util','total_acc','grade'])"
   ]
  },
  {
   "cell_type": "code",
   "execution_count": 35,
   "metadata": {},
   "outputs": [
    {
     "name": "stdout",
     "output_type": "stream",
     "text": [
      "<class 'pandas.core.frame.DataFrame'>\n",
      "RangeIndex: 24999 entries, 0 to 24998\n",
      "Data columns (total 13 columns):\n",
      " #   Column           Non-Null Count  Dtype  \n",
      "---  ------           --------------  -----  \n",
      " 0   loan_amnt        24999 non-null  int64  \n",
      " 1   int_rate         24999 non-null  object \n",
      " 2   installment      24999 non-null  float64\n",
      " 3   emp_length       24958 non-null  object \n",
      " 4   home_ownership   24999 non-null  object \n",
      " 5   annual_inc       24999 non-null  float64\n",
      " 6   dti              24999 non-null  float64\n",
      " 7   inq_last_6mths   24999 non-null  int64  \n",
      " 8   total_pymnt      24999 non-null  float64\n",
      " 9   total_rec_prncp  24999 non-null  float64\n",
      " 10  total_rec_int    24999 non-null  float64\n",
      " 11  recoveries       24999 non-null  float64\n",
      " 12  loan_status      24999 non-null  object \n",
      "dtypes: float64(7), int64(2), object(4)\n",
      "memory usage: 2.5+ MB\n"
     ]
    }
   ],
   "source": [
    "train_set.info()"
   ]
  },
  {
   "cell_type": "code",
   "execution_count": 36,
   "metadata": {},
   "outputs": [],
   "source": [
    "# ignoring the datapoints corresponding to 'Current' target variable as it is of no use for this problem\n",
    "train_set = train_set[train_set.loan_status != 'Current']\n",
    "# train_set"
   ]
  },
  {
   "cell_type": "code",
   "execution_count": 37,
   "metadata": {},
   "outputs": [
    {
     "name": "stdout",
     "output_type": "stream",
     "text": [
      "0    10+ years\n",
      "dtype: object \n",
      "\n"
     ]
    }
   ],
   "source": [
    "# filling the NAN values with the modal value for emp_length\n",
    "freq = train_set.emp_length.dropna().mode()\n",
    "print(freq,'\\n')"
   ]
  },
  {
   "cell_type": "code",
   "execution_count": 38,
   "metadata": {},
   "outputs": [],
   "source": [
    "# filling the NAN values with the modal value \n",
    "train_set['emp_length']=train_set['emp_length'].fillna('10+ years')\n",
    "\n",
    "# converting the strings to float \n",
    "train_set['emp_length'].replace('10+ years', '10 years',inplace=True)\n",
    "train_set['emp_length'].replace('< 1 year', '1 years',inplace=True)\n",
    "train_set['emp_length'].replace('1 year', '1 years',inplace=True)\n",
    "train_set['emp_length'] = train_set['emp_length'].str.rstrip(' years').astype('float')\n",
    "\n",
    "# converting strings to float\n",
    "train_set['home_ownership'].replace('RENT', 0,inplace=True)\n",
    "train_set['home_ownership'].replace('OWN', 1,inplace=True)\n",
    "train_set['home_ownership'].replace('MORTGAGE', 2,inplace=True)\n",
    "train_set['home_ownership'].replace('OTHER', 3,inplace=True)\n",
    "\n",
    "train_set['loan_status'].replace('Charged Off', -1, inplace=True)\n",
    "train_set['loan_status'].replace('Fully Paid', 1, inplace=True)\n",
    "\n",
    "# removing the % sign from the percentages and replacing the strings as float\n",
    "train_set['int_rate'] = train_set['int_rate'].str.rstrip('%').astype('float') / 100.0\n",
    "# train_set"
   ]
  },
  {
   "cell_type": "code",
   "execution_count": 39,
   "metadata": {},
   "outputs": [],
   "source": [
    "# assigning the target variable to train_labels\n",
    "train_labels = train_set['loan_status']\n",
    "train_set = train_set.drop(['loan_status'],axis=1)\n",
    "# train_labels"
   ]
  },
  {
   "cell_type": "markdown",
   "metadata": {},
   "source": [
    "## Processing the Test Dataset\n",
    "Everything is processed similar to the Training Dataset"
   ]
  },
  {
   "cell_type": "code",
   "execution_count": 40,
   "metadata": {},
   "outputs": [
    {
     "name": "stdout",
     "output_type": "stream",
     "text": [
      "<class 'pandas.core.frame.DataFrame'>\n",
      "RangeIndex: 14718 entries, 0 to 14717\n",
      "Data columns (total 57 columns):\n",
      " #   Column                      Non-Null Count  Dtype  \n",
      "---  ------                      --------------  -----  \n",
      " 0   id                          14718 non-null  int64  \n",
      " 1   member_id                   14718 non-null  int64  \n",
      " 2   loan_amnt                   14718 non-null  int64  \n",
      " 3   funded_amnt                 14718 non-null  int64  \n",
      " 4   funded_amnt_inv             14718 non-null  float64\n",
      " 5   term                        14718 non-null  object \n",
      " 6   int_rate                    14718 non-null  object \n",
      " 7   installment                 14718 non-null  float64\n",
      " 8   grade                       14718 non-null  object \n",
      " 9   sub_grade                   14718 non-null  object \n",
      " 10  emp_title                   12265 non-null  object \n",
      " 11  emp_length                  13684 non-null  object \n",
      " 12  home_ownership              14718 non-null  object \n",
      " 13  annual_inc                  14718 non-null  float64\n",
      " 14  verification_status         14718 non-null  object \n",
      " 15  issue_d                     14718 non-null  object \n",
      " 16  pymnt_plan                  14718 non-null  object \n",
      " 17  url                         14718 non-null  object \n",
      " 18  desc                        9970 non-null   object \n",
      " 19  purpose                     14718 non-null  object \n",
      " 20  title                       14715 non-null  object \n",
      " 21  zip_code                    14718 non-null  object \n",
      " 22  addr_state                  14718 non-null  object \n",
      " 23  dti                         14718 non-null  float64\n",
      " 24  delinq_2yrs                 14718 non-null  int64  \n",
      " 25  earliest_cr_line            14718 non-null  object \n",
      " 26  inq_last_6mths              14718 non-null  int64  \n",
      " 27  mths_since_last_delinq      5276 non-null   float64\n",
      " 28  mths_since_last_record      1107 non-null   float64\n",
      " 29  open_acc                    14718 non-null  int64  \n",
      " 30  pub_rec                     14718 non-null  int64  \n",
      " 31  revol_bal                   14718 non-null  int64  \n",
      " 32  revol_util                  14697 non-null  object \n",
      " 33  total_acc                   14718 non-null  int64  \n",
      " 34  initial_list_status         14718 non-null  object \n",
      " 35  out_prncp                   14718 non-null  float64\n",
      " 36  out_prncp_inv               14718 non-null  float64\n",
      " 37  total_pymnt                 14718 non-null  float64\n",
      " 38  total_pymnt_inv             14718 non-null  float64\n",
      " 39  total_rec_prncp             14718 non-null  float64\n",
      " 40  total_rec_int               14718 non-null  float64\n",
      " 41  total_rec_late_fee          14718 non-null  float64\n",
      " 42  recoveries                  14718 non-null  float64\n",
      " 43  collection_recovery_fee     14718 non-null  float64\n",
      " 44  last_pymnt_d                14692 non-null  object \n",
      " 45  last_pymnt_amnt             14718 non-null  float64\n",
      " 46  next_pymnt_d                442 non-null    object \n",
      " 47  last_credit_pull_d          14716 non-null  object \n",
      " 48  collections_12_mths_ex_med  14691 non-null  float64\n",
      " 49  policy_code                 14718 non-null  int64  \n",
      " 50  application_type            14718 non-null  object \n",
      " 51  acc_now_delinq              14718 non-null  int64  \n",
      " 52  chargeoff_within_12_mths    14691 non-null  float64\n",
      " 53  delinq_amnt                 14718 non-null  int64  \n",
      " 54  pub_rec_bankruptcies        14438 non-null  float64\n",
      " 55  tax_liens                   14696 non-null  float64\n",
      " 56  loan_status                 14718 non-null  object \n",
      "dtypes: float64(20), int64(13), object(24)\n",
      "memory usage: 6.4+ MB\n"
     ]
    }
   ],
   "source": [
    "test_set = test_set[[c for c in test_set if c not in ['loan_status']] + ['loan_status']]\n",
    "test_set = test_set.dropna(axis=1, how='all')\n",
    "test_set.info(verbose=True, null_counts=True)"
   ]
  },
  {
   "cell_type": "code",
   "execution_count": 41,
   "metadata": {},
   "outputs": [
    {
     "name": "stdout",
     "output_type": "stream",
     "text": [
      "<class 'pandas.core.frame.DataFrame'>\n",
      "RangeIndex: 14718 entries, 0 to 14717\n",
      "Data columns (total 13 columns):\n",
      " #   Column           Non-Null Count  Dtype  \n",
      "---  ------           --------------  -----  \n",
      " 0   loan_amnt        14718 non-null  int64  \n",
      " 1   int_rate         14718 non-null  object \n",
      " 2   installment      14718 non-null  float64\n",
      " 3   emp_length       13684 non-null  object \n",
      " 4   home_ownership   14718 non-null  object \n",
      " 5   annual_inc       14718 non-null  float64\n",
      " 6   dti              14718 non-null  float64\n",
      " 7   inq_last_6mths   14718 non-null  int64  \n",
      " 8   total_pymnt      14718 non-null  float64\n",
      " 9   total_rec_prncp  14718 non-null  float64\n",
      " 10  total_rec_int    14718 non-null  float64\n",
      " 11  recoveries       14718 non-null  float64\n",
      " 12  loan_status      14718 non-null  object \n",
      "dtypes: float64(7), int64(2), object(4)\n",
      "memory usage: 1.5+ MB\n"
     ]
    }
   ],
   "source": [
    "nunique = test_set.nunique()\n",
    "cols_to_drop = nunique[nunique == 1].index\n",
    "test_set = test_set.drop(cols_to_drop, axis=1)\n",
    "\n",
    "test_set = test_set.drop(columns=['next_pymnt_d','id','member_id','total_rec_late_fee', 'collection_recovery_fee','earliest_cr_line','last_pymnt_d','sub_grade'])\n",
    "test_set = test_set.drop(columns=['last_pymnt_amnt','url','emp_title','out_prncp','out_prncp_inv','funded_amnt','zip_code','addr_state','pub_rec_bankruptcies'])\n",
    "test_set = test_set.drop(columns=['funded_amnt_inv','mths_since_last_delinq','mths_since_last_record','desc','last_credit_pull_d','verification_status','term'])\n",
    "test_set = test_set.drop(columns=['purpose','issue_d','title','delinq_2yrs','total_pymnt_inv','open_acc', 'pub_rec', 'revol_bal','revol_util','total_acc','grade'])\n",
    "test_set.info()"
   ]
  },
  {
   "cell_type": "code",
   "execution_count": 42,
   "metadata": {},
   "outputs": [],
   "source": [
    "test_set = test_set[test_set.loan_status != 'Current']\n",
    "# test_set = test_set[test_set.home_ownership != 'NONE']\n",
    "# test_set"
   ]
  },
  {
   "cell_type": "code",
   "execution_count": 43,
   "metadata": {},
   "outputs": [
    {
     "name": "stdout",
     "output_type": "stream",
     "text": [
      "0    10+ years\n",
      "dtype: object \n",
      "\n"
     ]
    }
   ],
   "source": [
    "freq_t = test_set.emp_length.dropna().mode()\n",
    "print(freq_t,'\\n')"
   ]
  },
  {
   "cell_type": "code",
   "execution_count": 44,
   "metadata": {},
   "outputs": [],
   "source": [
    "test_set['emp_length']=test_set['emp_length'].fillna('10+ years')\n",
    "test_set['emp_length'].replace('10+ years', '10 years',inplace=True)\n",
    "test_set['emp_length'].replace('< 1 year', '1 years',inplace=True)\n",
    "test_set['emp_length'].replace('1 year', '1 years',inplace=True)\n",
    "test_set['emp_length'] = test_set['emp_length'].str.rstrip(' years').astype('float')\n",
    "\n",
    "test_set['home_ownership'].replace('RENT', 0,inplace=True)\n",
    "test_set['home_ownership'].replace('OWN', 1,inplace=True)\n",
    "test_set['home_ownership'].replace('MORTGAGE', 2,inplace=True)\n",
    "test_set['home_ownership'].replace('OTHER', 3,inplace=True)\n",
    "test_set['home_ownership'].replace('NONE', 4,inplace=True)\n",
    "\n",
    "test_set['loan_status'].replace('Charged Off', -1, inplace=True)\n",
    "test_set['loan_status'].replace('Fully Paid', 1, inplace=True)\n",
    "\n",
    "\n",
    "test_set['int_rate'] = test_set['int_rate'].str.rstrip('%').astype('float') / 100.0\n",
    "# test_set"
   ]
  },
  {
   "cell_type": "code",
   "execution_count": 45,
   "metadata": {},
   "outputs": [],
   "source": [
    "test_labels = test_set['loan_status']\n",
    "test_set = test_set.drop(['loan_status'],axis=1)\n"
   ]
  },
  {
   "cell_type": "markdown",
   "metadata": {},
   "source": [
    "## Importing the GradientBoostingClassifier from sklearn.ensemble"
   ]
  },
  {
   "cell_type": "code",
   "execution_count": 46,
   "metadata": {},
   "outputs": [],
   "source": [
    "clf = GradientBoostingClassifier(n_estimators=100, learning_rate=1.0, max_depth=3, random_state=0)"
   ]
  },
  {
   "cell_type": "code",
   "execution_count": 47,
   "metadata": {},
   "outputs": [
    {
     "data": {
      "text/plain": [
       "GradientBoostingClassifier(learning_rate=1.0, random_state=0)"
      ]
     },
     "execution_count": 47,
     "metadata": {},
     "output_type": "execute_result"
    }
   ],
   "source": [
    "# fitting the classifier with the training data\n",
    "clf.fit(train_set, train_labels)"
   ]
  },
  {
   "cell_type": "code",
   "execution_count": 48,
   "metadata": {},
   "outputs": [
    {
     "name": "stdout",
     "output_type": "stream",
     "text": [
      "Generalisation Error = 0.0014814205176741924\n"
     ]
    }
   ],
   "source": [
    "y_train = clf.predict(train_set)\n",
    "print('Generalisation Error =', 1-accuracy_score(y_train, train_labels))"
   ]
  },
  {
   "cell_type": "code",
   "execution_count": 49,
   "metadata": {},
   "outputs": [
    {
     "name": "stdout",
     "output_type": "stream",
     "text": [
      "Validation Error = 0.004483048472961659\n"
     ]
    }
   ],
   "source": [
    "y_test = clf.predict(test_set)\n",
    "print('Validation Error =', 1-accuracy_score(y_test, test_labels))"
   ]
  },
  {
   "cell_type": "code",
   "execution_count": 50,
   "metadata": {},
   "outputs": [
    {
     "name": "stdout",
     "output_type": "stream",
     "text": [
      "Recall = 0.9964594483326472\n"
     ]
    }
   ],
   "source": [
    "recall = recall_score(y_test, test_labels, average='binary')\n",
    "print('Recall =', recall)"
   ]
  },
  {
   "cell_type": "code",
   "execution_count": 51,
   "metadata": {},
   "outputs": [
    {
     "name": "stdout",
     "output_type": "stream",
     "text": [
      "Precision = 0.9982677555060628\n"
     ]
    }
   ],
   "source": [
    "precision = precision_score(y_test, test_labels, average='binary')\n",
    "print('Precision =', precision)"
   ]
  },
  {
   "cell_type": "code",
   "execution_count": 62,
   "metadata": {},
   "outputs": [
    {
     "name": "stdout",
     "output_type": "stream",
     "text": [
      "For 30 trees in the classifier\n",
      "Generalisation Error = 0.022303608904983285\n",
      "Validation Error = 0.023816195012608565\n",
      "Recall = 0.9732508635231746\n",
      "Precision = 0.9994225851686876\n"
     ]
    }
   ],
   "source": [
    "# number of trees = 30\n",
    "print('For 30 trees in the classifier')\n",
    "clf = GradientBoostingClassifier(n_estimators=30, learning_rate=1.0, max_depth=1, random_state=0)\n",
    "clf.fit(train_set, train_labels)\n",
    "y_train = clf.predict(train_set)\n",
    "print('Generalisation Error =', 1-accuracy_score(y_train, train_labels))\n",
    "y_test = clf.predict(test_set)\n",
    "print('Validation Error =', 1-accuracy_score(y_test, test_labels))\n",
    "recall = recall_score(y_test, test_labels, average='binary')\n",
    "print('Recall =', recall)\n",
    "precision = precision_score(y_test, test_labels, average='binary')\n",
    "print('Precision =', precision)"
   ]
  },
  {
   "cell_type": "code",
   "execution_count": 53,
   "metadata": {},
   "outputs": [
    {
     "name": "stdout",
     "output_type": "stream",
     "text": [
      "For 60 trees in the classifier\n",
      "Generalisation Error = 0.0014814205176741924\n",
      "Validation Error = 0.004483048472961659\n",
      "Recall = 0.9964594483326472\n",
      "Precision = 0.9982677555060628\n"
     ]
    }
   ],
   "source": [
    "# number of trees = 60\n",
    "print('For 60 trees in the classifier')\n",
    "clf = GradientBoostingClassifier(n_estimators=60, learning_rate=1.0, max_depth=3, random_state=0)\n",
    "clf.fit(train_set, train_labels)\n",
    "y_train = clf.predict(train_set)\n",
    "print('Generalisation Error =', 1-accuracy_score(y_train, train_labels))\n",
    "y_test = clf.predict(test_set)\n",
    "print('Validation Error =', 1-accuracy_score(y_test, test_labels))\n",
    "recall = recall_score(y_test, test_labels, average='binary')\n",
    "print('Recall =', recall)\n",
    "precision = precision_score(y_test, test_labels, average='binary')\n",
    "print('Precision =', precision)"
   ]
  },
  {
   "cell_type": "code",
   "execution_count": 54,
   "metadata": {},
   "outputs": [
    {
     "name": "stdout",
     "output_type": "stream",
     "text": [
      "For 80 trees in the classifier\n",
      "Generalisation Error = 0.0014814205176741924\n",
      "Validation Error = 0.004483048472961659\n",
      "Recall = 0.9964594483326472\n",
      "Precision = 0.9982677555060628\n"
     ]
    }
   ],
   "source": [
    "# number of trees = 80\n",
    "print('For 80 trees in the classifier')\n",
    "clf = GradientBoostingClassifier(n_estimators=80, learning_rate=1.0, max_depth=3, random_state=0)\n",
    "clf.fit(train_set, train_labels)\n",
    "y_train = clf.predict(train_set)\n",
    "print('Generalisation Error =', 1-accuracy_score(y_train, train_labels))\n",
    "y_test = clf.predict(test_set)\n",
    "print('Validation Error =', 1-accuracy_score(y_test, test_labels))\n",
    "recall = recall_score(y_test, test_labels, average='binary')\n",
    "print('Recall =', recall)\n",
    "precision = precision_score(y_test, test_labels, average='binary')\n",
    "print('Precision =', precision)"
   ]
  },
  {
   "cell_type": "code",
   "execution_count": 55,
   "metadata": {},
   "outputs": [
    {
     "name": "stdout",
     "output_type": "stream",
     "text": [
      "For 100 trees in the classifier\n",
      "Generalisation Error = 0.0014814205176741924\n",
      "Validation Error = 0.004483048472961659\n",
      "Recall = 0.9964594483326472\n",
      "Precision = 0.9982677555060628\n"
     ]
    }
   ],
   "source": [
    "# number of trees = 100\n",
    "print('For 100 trees in the classifier')\n",
    "clf = GradientBoostingClassifier(n_estimators=100, learning_rate=1.0, max_depth=3, random_state=0)\n",
    "clf.fit(train_set, train_labels)\n",
    "y_train = clf.predict(train_set)\n",
    "print('Generalisation Error =', 1-accuracy_score(y_train, train_labels))\n",
    "y_test = clf.predict(test_set)\n",
    "print('Validation Error =', 1-accuracy_score(y_test, test_labels))\n",
    "recall = recall_score(y_test, test_labels, average='binary')\n",
    "print('Recall =', recall)\n",
    "precision = precision_score(y_test, test_labels, average='binary')\n",
    "print('Precision =', precision)"
   ]
  },
  {
   "cell_type": "markdown",
   "metadata": {},
   "source": [
    "The Classifier with 100 trees provides the lowest training and testing errors along with the best recall and precision over the test dataset."
   ]
  },
  {
   "cell_type": "code",
   "execution_count": 61,
   "metadata": {},
   "outputs": [
    {
     "name": "stdout",
     "output_type": "stream",
     "text": [
      "For a single Decision Tree:\n",
      "Generalisation Error = 0.003827003003991636\n",
      "Validation Error = 0.004763239002521735\n"
     ]
    }
   ],
   "source": [
    "clf_tree = DecisionTreeClassifier(max_depth=7)\n",
    "print('For a single Decision Tree:')\n",
    "clf_tree.fit(train_set, train_labels)\n",
    "y_tree_train = clf_tree.predict(train_set)\n",
    "print('Generalisation Error =', 1-accuracy_score(y_tree_train, train_labels))\n",
    "\n",
    "y_tree_test = clf_tree.predict(test_set)\n",
    "print('Validation Error =', 1-accuracy_score(y_tree_test, test_labels))"
   ]
  },
  {
   "cell_type": "markdown",
   "metadata": {},
   "source": [
    "Hence,   \n",
    "For a single Decision Tree:  \n",
    "Generalisation Error = 0.003827003003991636  \n",
    "Validation Error = 0.004763239002521735  \n",
    "\n",
    "and,  \n",
    "For 100 trees in the classifier   \n",
    "Generalisation Error = 0.0014814205176741924   \n",
    "Validation Error = 0.004483048472961659    \n",
    "Recall = 0.9964594483326472   \n",
    "Precision = 0.9982677555060628   \n",
    "  \n",
    "Hence, the GradientBoostingClassifier provides better accuracy over the training and the testing datasets"
   ]
  }
 ],
 "metadata": {
  "interpreter": {
   "hash": "ad2bdc8ecc057115af97d19610ffacc2b4e99fae6737bb82f5d7fb13d2f2c186"
  },
  "kernelspec": {
   "display_name": "Python 3.8.5 ('base')",
   "language": "python",
   "name": "python3"
  },
  "language_info": {
   "codemirror_mode": {
    "name": "ipython",
    "version": 3
   },
   "file_extension": ".py",
   "mimetype": "text/x-python",
   "name": "python",
   "nbconvert_exporter": "python",
   "pygments_lexer": "ipython3",
   "version": "3.8.5"
  },
  "orig_nbformat": 4
 },
 "nbformat": 4,
 "nbformat_minor": 2
}
